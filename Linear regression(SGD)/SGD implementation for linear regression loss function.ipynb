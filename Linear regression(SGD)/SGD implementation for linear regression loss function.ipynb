{
 "cells": [
  {
   "cell_type": "code",
   "execution_count": null,
   "metadata": {},
   "outputs": [],
   "source": [
    "\"\"\"\n",
    "    Implemented SGD based on loss function for linear regression\n",
    "\"\"\""
   ]
  },
  {
   "cell_type": "code",
   "execution_count": 892,
   "metadata": {},
   "outputs": [],
   "source": [
    "import warnings\n",
    "warnings.filterwarnings(\"ignore\")\n",
    "from sklearn.datasets import load_boston\n",
    "from random import seed\n",
    "from random import randrange\n",
    "from csv import reader\n",
    "from math import sqrt\n",
    "from sklearn import preprocessing\n",
    "import pandas as pd\n",
    "import numpy as np\n",
    "import matplotlib.pyplot as plt\n",
    "from prettytable import PrettyTable\n",
    "from sklearn.linear_model import SGDRegressor\n",
    "from sklearn import preprocessing\n",
    "from sklearn.metrics import mean_squared_error"
   ]
  },
  {
   "cell_type": "code",
   "execution_count": 902,
   "metadata": {},
   "outputs": [],
   "source": [
    "#Function that computes partial differentiation of L w.r.t w\n",
    "def diff_l_w(x,y,k,w,b):\n",
    "    val=0\n",
    "    for i in range(k):\n",
    "        val+=(-2*x[i])*(y[i]-np.dot(w,x[i])-b)\n",
    "    val=val/k\n",
    "    return val\n",
    "\n",
    "#Function that computes partial differentiation of L w.r.t b\n",
    "def diff_l_b(x,y,k,w,b):\n",
    "    val=0\n",
    "    for i in range(k):\n",
    "        val+=(-2)*(y[i]-np.dot(w,x[i])-b)\n",
    "    val=val/k\n",
    "    return val\n",
    "\n",
    "\n",
    "#This would return us weight vector(w) and intercept(b)\n",
    "#For SGD implementation k value is fixed at 50 which would be sampled randomly in each iteration\n",
    "def fit(x,y,iteration=100,k=50):\n",
    "    \n",
    "    #initialization\n",
    "    n,d=x.shape\n",
    "    w=np.random.rand(1,d)\n",
    "    b=0\n",
    "    niter=1\n",
    "    r=1 # learning rate\n",
    "    \n",
    "    \n",
    "    \n",
    "    while(niter<iteration):\n",
    "        #selecting k random data points\n",
    "        idx=np.random.choice(x.shape[0], k, replace=False)\n",
    "        x_k=x[idx]\n",
    "        y_k=y[idx]\n",
    "\n",
    "        #assigning old weight and bias\n",
    "        w_old=w\n",
    "        b_old=b\n",
    "        \n",
    "        #calculating partial derivative using function\n",
    "        diff_w=diff_l_w(x_k,y_k,k,w_old,b_old)\n",
    "        diff_b=diff_l_b(x_k,y_k,k,w_old,b_old)\n",
    "        #print(\"Diff \",diff_w,diff_b)\n",
    "        \n",
    "        #calculating new weight and bias\n",
    "        w=w_old-(r*diff_w)\n",
    "        b=b_old-(r*diff_b)\n",
    "        #print(\"val \",w,b)\n",
    "        if (w_old==w).all():\n",
    "            #print(w,b)\n",
    "            #print(w_old,b_old)\n",
    "            #print(niter)\n",
    "            break\n",
    "        \n",
    "        #r=r/2 #changing the learning rate\n",
    "        \n",
    "        # Based on invscaling learning rate - eta0 0.2(0.01 default),power_t 0.5\n",
    "        r = 0.2 / (niter ** 0.5)\n",
    "        niter+=1\n",
    "        #print(r)\n",
    "    return w,b\n",
    "\n",
    "#predict function would take x,w and b as input and return the predicted values for x\n",
    "def predict(x,w,b):\n",
    "    yhat_list=[]\n",
    "    #print(\"W \",w,\"\\nb \",b)\n",
    "    for i in x:\n",
    "        #print(\" X :\",i)\n",
    "        yhat = b.copy()\n",
    "        yhat += np.dot(w,i)\n",
    "        #print(\"Pred :\",yhat)\n",
    "        yhat_list.append(float(yhat))\n",
    "    return yhat_list"
   ]
  },
  {
   "cell_type": "markdown",
   "metadata": {},
   "source": [
    "<h4> Loading the data </h4>"
   ]
  },
  {
   "cell_type": "code",
   "execution_count": 903,
   "metadata": {},
   "outputs": [],
   "source": [
    "X = load_boston().data\n",
    "Y = load_boston().target"
   ]
  },
  {
   "cell_type": "code",
   "execution_count": 904,
   "metadata": {},
   "outputs": [],
   "source": [
    "#scaling the data\n",
    "scaler = preprocessing.StandardScaler().fit(X)\n",
    "X = scaler.transform(X)"
   ]
  },
  {
   "cell_type": "markdown",
   "metadata": {},
   "source": [
    "<h4> Using sklearn implementation </h4>"
   ]
  },
  {
   "cell_type": "code",
   "execution_count": 905,
   "metadata": {},
   "outputs": [
    {
     "name": "stdout",
     "output_type": "stream",
     "text": [
      "Sklearn SGDRegressor -> mean squared error:  22.961528742228293\n"
     ]
    }
   ],
   "source": [
    "#Using sklearn function\n",
    "clf = SGDRegressor()\n",
    "clf.fit(X, Y)\n",
    "y_pred_sklearn=clf.predict(X)\n",
    "print(\"Sklearn SGDRegressor -> mean squared error: \",mean_squared_error(Y, clf.predict(X)))"
   ]
  },
  {
   "cell_type": "code",
   "execution_count": 906,
   "metadata": {},
   "outputs": [
    {
     "name": "stdout",
     "output_type": "stream",
     "text": [
      "Sklearn SGDRegressor\n"
     ]
    },
    {
     "data": {
      "image/png": "[encoded data removed]",
      "text/plain": [
       "<Figure size 432x288 with 1 Axes>"
      ]
     },
     "metadata": {},
     "output_type": "display_data"
    }
   ],
   "source": [
    "print(\"Sklearn SGDRegressor\")\n",
    "plt.scatter(Y, y_pred_sklearn)\n",
    "plt.xlabel(\"Prices: $Y_i$\")\n",
    "plt.ylabel(\"Predicted prices: $\\hat{Y}_i$\")\n",
    "plt.grid()\n",
    "plt.title(\"Prices vs Predicted prices: $Y_i$ vs $\\hat{Y}_i$\")\n",
    "plt.show()"
   ]
  },
  {
   "cell_type": "markdown",
   "metadata": {},
   "source": [
    "<h4> Using above implemented functions </h4>"
   ]
  },
  {
   "cell_type": "code",
   "execution_count": 907,
   "metadata": {},
   "outputs": [
    {
     "name": "stdout",
     "output_type": "stream",
     "text": [
      "From above implemtation\n",
      "w  [[-0.8534915   1.04180843 -0.12095136  0.72550781 -1.87724571  2.83522603\n",
      "  -0.14668022 -3.11767453  2.10629757 -1.49729269 -2.00529417  0.88410237\n",
      "  -3.7332818 ]] \n",
      "b : [22.52614761]\n",
      "\n",
      "SGD regressor : \n",
      "w:  [-0.75362263  0.63454393 -0.42637732  0.8021617  -1.01109142  3.19652258\n",
      " -0.2572233  -2.07483893  0.774089   -0.57966123 -1.81458047  0.89000739\n",
      " -3.44759324] \n",
      "b: [22.32663298]\n",
      "Above implementation -> mean squared error:  21.980414928818234\n"
     ]
    }
   ],
   "source": [
    "#Using above implemented functions\n",
    "w,b=fit(X,Y,iteration=1000) \n",
    "print(\"From above implemtation\\nw \",w,\"\\nb :\",b)\n",
    "print(\"\\nSGD regressor : \\nw: \", clf.coef_ ,\"\\nb:\",clf.intercept_)\n",
    "y_pred_implemented=predict(X,w[0],b)\n",
    "print(\"Above implementation -> mean squared error: \",mean_squared_error(Y,y_pred))"
   ]
  },
  {
   "cell_type": "code",
   "execution_count": 908,
   "metadata": {},
   "outputs": [
    {
     "name": "stdout",
     "output_type": "stream",
     "text": [
      "Above implementation\n"
     ]
    },
    {
     "data": {
      "image/png": "[encoded data removed]",
      "text/plain": [
       "<Figure size 432x288 with 1 Axes>"
      ]
     },
     "metadata": {},
     "output_type": "display_data"
    }
   ],
   "source": [
    "print(\"Above implementation\")\n",
    "plt.scatter(Y, y_pred)\n",
    "plt.xlabel(\"Prices: $Y_i$\")\n",
    "plt.ylabel(\"Predicted prices: $\\hat{Y}_i$\")\n",
    "plt.title(\"Prices vs Predicted prices: $Y_i$ vs $\\hat{Y}_i$\")\n",
    "plt.grid()\n",
    "plt.show()"
   ]
  },
  {
   "cell_type": "markdown",
   "metadata": {},
   "source": [
    "<h3> Comparison </h3>"
   ]
  },
  {
   "cell_type": "markdown",
   "metadata": {},
   "source": [
    "<h4> W and b values</h4>"
   ]
  },
  {
   "cell_type": "code",
   "execution_count": 909,
   "metadata": {},
   "outputs": [
    {
     "name": "stdout",
     "output_type": "stream",
     "text": [
      "+---------------------+----------------------+\n",
      "|       Sklearn       | Above implementation |\n",
      "+---------------------+----------------------+\n",
      "|       B value:      |                      |\n",
      "|    [22.32663298]    |    [22.52614761]     |\n",
      "|       W value:      |                      |\n",
      "| -0.7536226269197488 | -0.8534914993540725  |\n",
      "|  0.6345439287373515 |  1.0418084305629236  |\n",
      "| -0.4263773212770907 | -0.12095135610221336 |\n",
      "|  0.8021616968017958 |  0.7255078069799018  |\n",
      "| -1.0110914155946313 |  -1.877245711046955  |\n",
      "|  3.196522578397554  |  2.835226032465963   |\n",
      "| -0.2572232980034964 | -0.14668021973780862 |\n",
      "| -2.0748389264027507 |  -3.117674532745802  |\n",
      "|  0.7740889952815311 |  2.106297570824644   |\n",
      "| -0.5796612325968884 | -1.4972926945477503  |\n",
      "| -1.8145804653696365 |  -2.005294174884483  |\n",
      "|  0.8900073929868297 |  0.8841023664262676  |\n",
      "| -3.4475932406043324 | -3.7332817958580224  |\n",
      "+---------------------+----------------------+\n"
     ]
    }
   ],
   "source": [
    "# http://zetcode.com/python/prettytable/\n",
    "from prettytable import PrettyTable\n",
    "pos = PrettyTable()\n",
    "pos.field_names = [\"Sklearn\", \"Above implementation\"]\n",
    "pos.add_row([\"B value:\",\"\"])\n",
    "pos.add_row([clf.intercept_,b])\n",
    "pos.add_row([\"W value:\",\"\"])\n",
    "for i in range(len(w[0])):\n",
    "    pos.add_row([clf.coef_[i],w[0][i]])\n",
    "print(pos)"
   ]
  },
  {
   "cell_type": "markdown",
   "metadata": {},
   "source": [
    "<h4>Mean squared error</h4>"
   ]
  },
  {
   "cell_type": "code",
   "execution_count": 910,
   "metadata": {},
   "outputs": [
    {
     "name": "stdout",
     "output_type": "stream",
     "text": [
      "+--------------------+----------------------+\n",
      "|      Sklearn       | Above implementation |\n",
      "+--------------------+----------------------+\n",
      "| 22.961528742228293 |  21.980414928818234  |\n",
      "+--------------------+----------------------+\n"
     ]
    }
   ],
   "source": [
    "# http://zetcode.com/python/prettytable/\n",
    "from prettytable import PrettyTable\n",
    "pos = PrettyTable()\n",
    "pos.field_names = [\"Sklearn\", \"Above implementation\"]\n",
    "pos.add_row([mean_squared_error(Y, clf.predict(X)),mean_squared_error(Y,y_pred)])\n",
    "print(pos)\n"
   ]
  }
 ],
 "metadata": {
  "kernelspec": {
   "display_name": "Python 3",
   "language": "python",
   "name": "python3"
  },
  "language_info": {
   "codemirror_mode": {
    "name": "ipython",
    "version": 3
   },
   "file_extension": ".py",
   "mimetype": "text/x-python",
   "name": "python",
   "nbconvert_exporter": "python",
   "pygments_lexer": "ipython3",
   "version": "3.7.4"
  }
 },
 "nbformat": 4,
 "nbformat_minor": 2
}
